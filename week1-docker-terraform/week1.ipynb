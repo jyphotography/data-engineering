{
 "cells": [
  {
   "cell_type": "markdown",
   "metadata": {},
   "source": [
    "# Module 1 Homework: Docker & SQL\n",
    "\n",
    "In this homework we'll prepare the environment and practice\n",
    "Docker and SQL\n",
    "\n",
    "When submitting your homework, you will also need to include\n",
    "a link to your GitHub repository or other public code-hosting\n",
    "site.\n",
    "\n",
    "This repository should contain the code for solving the homework. \n",
    "\n",
    "When your solution has SQL or shell commands and not code\n",
    "(e.g. python files) file format, include them directly in\n",
    "the README file of your repository."
   ]
  },
  {
   "cell_type": "markdown",
   "metadata": {},
   "source": [
    "## Question 1. Understanding docker first run \n",
    "\n",
    "Run docker with the `python:3.12.8` image in an interactive mode, use the entrypoint `bash`.\n",
    "\n",
    "What's the version of `pip` in the image?\n",
    "\n",
    "- 24.3.1\n",
    "- 24.2.1\n",
    "- 23.3.1\n",
    "- 23.2.1"
   ]
  },
  {
   "cell_type": "code",
   "execution_count": 5,
   "metadata": {},
   "outputs": [],
   "source": [
    "# !docker run -it --entrypoint=bash python:3.12.8\n",
    "# !pip --version"
   ]
  },
  {
   "cell_type": "markdown",
   "metadata": {},
   "source": [
    "pip 24.3.1 from /usr/local/lib/python3.12/site-packages/pip (python 3.12)"
   ]
  },
  {
   "cell_type": "markdown",
   "metadata": {},
   "source": [
    "## Question 2. Understanding Docker networking and docker-compose\n",
    "\n",
    "Given the following `docker-compose.yaml`, what is the `hostname` and `port` that **pgadmin** should use to connect to the postgres database?\n",
    "\n",
    "```yaml\n",
    "services:\n",
    "  db:\n",
    "    container_name: postgres\n",
    "    image: postgres:17-alpine\n",
    "    environment:\n",
    "      POSTGRES_USER: 'postgres'\n",
    "      POSTGRES_PASSWORD: 'postgres'\n",
    "      POSTGRES_DB: 'ny_taxi'\n",
    "    ports:\n",
    "      - '5433:5432'\n",
    "    volumes:\n",
    "      - vol-pgdata:/var/lib/postgresql/data\n",
    "\n",
    "  pgadmin:\n",
    "    container_name: pgadmin\n",
    "    image: dpage/pgadmin4:latest\n",
    "    environment:\n",
    "      PGADMIN_DEFAULT_EMAIL: \"pgadmin@pgadmin.com\"\n",
    "      PGADMIN_DEFAULT_PASSWORD: \"pgadmin\"\n",
    "    ports:\n",
    "      - \"8080:80\"\n",
    "    volumes:\n",
    "      - vol-pgadmin_data:/var/lib/pgadmin  \n",
    "\n",
    "volumes:\n",
    "  vol-pgdata:\n",
    "    name: vol-pgdata\n",
    "  vol-pgadmin_data:\n",
    "    name: vol-pgadmin_data\n",
    "```\n",
    "\n",
    "- postgres:5433\n",
    "- localhost:5432\n",
    "- db:5433\n",
    "- postgres:5432\n",
    "- db:5432\n",
    "\n",
    "If there are more than one answers, select only one of them\n"
   ]
  },
  {
   "cell_type": "code",
   "execution_count": null,
   "metadata": {},
   "outputs": [],
   "source": [
    "#docker network create pg-network"
   ]
  },
  {
   "cell_type": "code",
   "execution_count": 1,
   "metadata": {},
   "outputs": [],
   "source": [
    "# docker run -it \\\n",
    "#   --name postgres \\\n",
    "#   --network pg-network \\\n",
    "#   -e POSTGRES_USER=\"postgres\" \\\n",
    "#   -e POSTGRES_PASSWORD=\"postgres\" \\\n",
    "#   -e POSTGRES_DB=\"ny_taxi\" \\\n",
    "#   -v vol-pgdata:/var/lib/postgresql/data \\\n",
    "#   -p 5433:5432 \\\n",
    "#   postgres:17-alpine"
   ]
  },
  {
   "cell_type": "code",
   "execution_count": null,
   "metadata": {},
   "outputs": [],
   "source": [
    "# docker run -it \\\n",
    "#   -e PGADMIN_DEFAULT_EMAIL=\"pgadmin@pgadmin.com\" \\\n",
    "#   -e PGADMIN_DEFAULT_PASSWORD=\"pgadmin\" \\\n",
    "#   -p 8080:80 \\\n",
    "#   -v vol-pgadmin_data:/var/lib/pgadmin \\\n",
    "#   --network=pg-network \\\n",
    "#   --name pgadmin-2 \\\n",
    "#   dpage/pgadmin4"
   ]
  },
  {
   "cell_type": "markdown",
   "metadata": {},
   "source": [
    "db:5432"
   ]
  },
  {
   "cell_type": "markdown",
   "metadata": {},
   "source": [
    "##  Prepare Postgres\n",
    "\n",
    "Run Postgres and load data as shown in the videos\n",
    "We'll use the green taxi trips from October 2019:\n",
    "\n",
    "```bash\n",
    "wget https://github.com/DataTalksClub/nyc-tlc-data/releases/download/green/green_tripdata_2019-10.csv.gz\n",
    "```\n",
    "\n",
    "You will also need the dataset with zones:\n",
    "\n",
    "```bash\n",
    "wget https://github.com/DataTalksClub/nyc-tlc-data/releases/download/misc/taxi_zone_lookup.csv\n",
    "```\n",
    "\n",
    "Download this data and put it into Postgres.\n",
    "\n",
    "You can use the code from the course. It's up to you whether\n",
    "you want to use Jupyter or a python script.\n",
    "\n",
    "## Question 3. Trip Segmentation Count\n",
    "\n",
    "During the period of October 1st 2019 (inclusive) and November 1st 2019 (exclusive), how many trips, **respectively**, happened:\n",
    "1. Up to 1 mile\n",
    "2. In between 1 (exclusive) and 3 miles (inclusive),\n",
    "3. In between 3 (exclusive) and 7 miles (inclusive),\n",
    "4. In between 7 (exclusive) and 10 miles (inclusive),\n",
    "5. Over 10 miles \n",
    "\n",
    "Answers:\n",
    "\n",
    "- 104,802;  197,670;  110,612;  27,831;  35,281\n",
    "- 104,802;  198,924;  109,603;  27,678;  35,189\n",
    "- 104,793;  201,407;  110,612;  27,831;  35,281\n",
    "- 104,793;  202,661;  109,603;  27,678;  35,189\n",
    "- 104,838;  199,013;  109,645;  27,688;  35,202"
   ]
  },
  {
   "cell_type": "code",
   "execution_count": null,
   "metadata": {},
   "outputs": [],
   "source": [
    "!docker run -d \\\n",
    "  --name pgadmin \\\n",
    "  -e PGADMIN_DEFAULT_EMAIL=\"pgadmin@pgadmin.com\" \\\n",
    "  -e PGADMIN_DEFAULT_PASSWORD=\"pgadmin\" \\\n",
    "  -p 8080:80 \\\n",
    "  -v vol-pgadmin_data:/var/lib/pgadmin \\\n",
    "  dpage/pgadmin4:latest"
   ]
  },
  {
   "cell_type": "code",
   "execution_count": null,
   "metadata": {},
   "outputs": [],
   "source": []
  }
 ],
 "metadata": {
  "kernelspec": {
   "display_name": "Python 3",
   "language": "python",
   "name": "python3"
  },
  "language_info": {
   "codemirror_mode": {
    "name": "ipython",
    "version": 3
   },
   "file_extension": ".py",
   "mimetype": "text/x-python",
   "name": "python",
   "nbconvert_exporter": "python",
   "pygments_lexer": "ipython3",
   "version": "3.11.5"
  }
 },
 "nbformat": 4,
 "nbformat_minor": 2
}
