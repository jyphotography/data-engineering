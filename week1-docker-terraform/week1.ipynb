{
 "cells": [
  {
   "cell_type": "markdown",
   "metadata": {},
   "source": [
    "Question 1. Version of pip (1 point)\n",
    "\n",
    "\n",
    "24.3.1\n",
    "\n",
    "24.2.1\n",
    "\n",
    "23.3.1\n",
    "\n",
    "23.2.1"
   ]
  },
  {
   "cell_type": "code",
   "execution_count": 1,
   "metadata": {},
   "outputs": [
    {
     "name": "stdout",
     "output_type": "stream",
     "text": [
      "pip 24.3.1 from /usr/local/python/3.12.1/lib/python3.12/site-packages/pip (python 3.12)\n"
     ]
    }
   ],
   "source": [
    "!pip --version"
   ]
  },
  {
   "cell_type": "markdown",
   "metadata": {},
   "source": [
    "Question 2. Docker networking and docker-compose (1 point)\n",
    "\n",
    "\n",
    "postgres:5433\n",
    "\n",
    "localhost:5432\n",
    "\n",
    "db:5433\n",
    "\n",
    "postgres:5432\n",
    "\n",
    "db:5432"
   ]
  },
  {
   "cell_type": "code",
   "execution_count": 2,
   "metadata": {},
   "outputs": [
    {
     "name": "stdout",
     "output_type": "stream",
     "text": [
      "Unable to find image 'postgres:13' locally\n",
      "13: Pulling from library/postgres\n",
      "\n",
      "\u001b[1B2e5c37e9: Pulling fs layer \n",
      "\u001b[1B9d0a6eca: Pulling fs layer \n",
      "\u001b[1Bd6d4b0a0: Pulling fs layer \n",
      "\u001b[1B9a00774a: Pulling fs layer \n",
      "\u001b[1B86dd07d4: Pulling fs layer \n",
      "\u001b[1B4c5635ca: Pulling fs layer \n",
      "\u001b[1B0a5f7a9e: Pulling fs layer \n",
      "\u001b[1Bc92d86a2: Pulling fs layer \n",
      "\u001b[1Bf876226d: Pulling fs layer \n",
      "\u001b[1Be99e58fd: Pulling fs layer \n",
      "\u001b[1Bbf51897c: Pulling fs layer \n",
      "\u001b[1B9854ba43: Pulling fs layer \n",
      "\u001b[1B5f06ba1f: Pulling fs layer \n",
      "\u001b[1BDigest: sha256:1b154a7bbf474aa1a2e67dc7c976835645fe6c3425320e7ad3f5a926d509e8fc[2K\u001b[5A\u001b[2K\u001b[14A\u001b[2K\u001b[4A\u001b[2K\u001b[2A\u001b[2K\u001b[6A\u001b[2K\u001b[6A\u001b[2K\u001b[6A\u001b[2K\u001b[6A\u001b[2K\u001b[6A\u001b[2K\u001b[6A\u001b[2K\u001b[6A\u001b[2K\u001b[6A\u001b[2K\u001b[14A\u001b[2K\u001b[14A\u001b[2K\u001b[14A\u001b[2K\u001b[14A\u001b[2K\u001b[14A\u001b[2K\u001b[13A\u001b[2K\u001b[12A\u001b[2K\u001b[12A\u001b[2K\u001b[11A\u001b[2K\u001b[11A\u001b[2K\u001b[10A\u001b[2K\u001b[10A\u001b[2K\u001b[10A\u001b[2K\u001b[10A\u001b[2K\u001b[10A\u001b[2K\u001b[9A\u001b[2KPull complete \u001b[6A\u001b[2K\u001b[6A\u001b[2K\u001b[6A\u001b[2K\u001b[6A\u001b[2K\u001b[6A\u001b[2K\u001b[6A\u001b[2K\u001b[6A\u001b[2K\u001b[6A\u001b[2K\u001b[6A\u001b[2K\u001b[6A\u001b[2K\u001b[6A\u001b[2K\u001b[6A\u001b[2K\u001b[6A\u001b[2K\u001b[6A\u001b[2K\u001b[6A\u001b[2K\u001b[6A\u001b[2K\u001b[6A\u001b[2K\u001b[6A\u001b[2K\u001b[6A\u001b[2K\u001b[6A\u001b[2K\u001b[6A\u001b[2K\u001b[6A\u001b[2K\u001b[6A\u001b[2K\u001b[6A\u001b[2K\u001b[6A\u001b[2K\u001b[6A\u001b[2K\u001b[6A\u001b[2K\u001b[6A\u001b[2K\u001b[4A\u001b[2K\u001b[2A\u001b[2K\n",
      "Status: Downloaded newer image for postgres:13\n",
      "The files belonging to this database system will be owned by user \"postgres\".\n",
      "This user must also own the server process.\n",
      "\n",
      "The database cluster will be initialized with locale \"en_US.utf8\".\n",
      "The default database encoding has accordingly been set to \"UTF8\".\n",
      "The default text search configuration will be set to \"english\".\n",
      "\n",
      "Data page checksums are disabled.\n",
      "\n",
      "fixing permissions on existing directory /var/lib/postgresql/data ... ok\n",
      "creating subdirectories ... ok\n",
      "selecting dynamic shared memory implementation ... posix\n",
      "selecting default max_connections ... 100\n",
      "selecting default shared_buffers ... 128MB\n",
      "selecting default time zone ... Etc/UTC\n",
      "creating configuration files ... ok\n",
      "running bootstrap script ... ok\n",
      "performing post-bootstrap initialization ... ok\n",
      "syncing data to disk ... ok\n",
      "\n",
      "initdb: warning: enabling \"trust\" authentication for local connections\n",
      "You can change this by editing pg_hba.conf or using the option -A, or\n",
      "--auth-local and --auth-host, the next time you run initdb.\n",
      "\n",
      "Success. You can now start the database server using:\n",
      "\n",
      "    pg_ctl -D /var/lib/postgresql/data -l logfile start\n",
      "\n",
      "waiting for server to start....2025-01-27 03:19:29.761 UTC [48] LOG:  starting PostgreSQL 13.18 (Debian 13.18-1.pgdg120+1) on x86_64-pc-linux-gnu, compiled by gcc (Debian 12.2.0-14) 12.2.0, 64-bit\n",
      "2025-01-27 03:19:29.763 UTC [48] LOG:  listening on Unix socket \"/var/run/postgresql/.s.PGSQL.5432\"\n",
      "2025-01-27 03:19:29.766 UTC [49] LOG:  database system was shut down at 2025-01-27 03:19:29 UTC\n",
      "2025-01-27 03:19:29.772 UTC [48] LOG:  database system is ready to accept connections\n",
      " done\n",
      "server started\n",
      "CREATE DATABASE\n",
      "\n",
      "\n",
      "/usr/local/bin/docker-entrypoint.sh: ignoring /docker-entrypoint-initdb.d/*\n",
      "\n",
      "2025-01-27 03:19:30.131 UTC [48] LOG:  received fast shutdown request\n",
      "waiting for server to shut down....2025-01-27 03:19:30.133 UTC [48] LOG:  aborting any active transactions\n",
      "2025-01-27 03:19:30.141 UTC [48] LOG:  background worker \"logical replication launcher\" (PID 55) exited with exit code 1\n",
      "2025-01-27 03:19:30.141 UTC [50] LOG:  shutting down\n",
      "2025-01-27 03:19:30.155 UTC [48] LOG:  database system is shut down\n",
      " done\n",
      "server stopped\n",
      "\n",
      "PostgreSQL init process complete; ready for start up.\n",
      "\n",
      "2025-01-27 03:19:30.275 UTC [1] LOG:  starting PostgreSQL 13.18 (Debian 13.18-1.pgdg120+1) on x86_64-pc-linux-gnu, compiled by gcc (Debian 12.2.0-14) 12.2.0, 64-bit\n",
      "2025-01-27 03:19:30.275 UTC [1] LOG:  listening on IPv4 address \"0.0.0.0\", port 5432\n",
      "2025-01-27 03:19:30.275 UTC [1] LOG:  listening on IPv6 address \"::\", port 5432\n",
      "2025-01-27 03:19:30.283 UTC [1] LOG:  listening on Unix socket \"/var/run/postgresql/.s.PGSQL.5432\"\n",
      "2025-01-27 03:19:30.287 UTC [63] LOG:  database system was shut down at 2025-01-27 03:19:30 UTC\n",
      "2025-01-27 03:19:30.293 UTC [1] LOG:  database system is ready to accept connections\n",
      "^C\n",
      "2025-01-27 03:20:01.671 UTC [1] LOG:  received fast shutdown request\n",
      "2025-01-27 03:20:01.679 UTC [1] LOG:  aborting any active transactions\n",
      "2025-01-27 03:20:01.683 UTC [1] LOG:  background worker \"logical replication launcher\" (PID 69) exited with exit code 1\n",
      "2025-01-27 03:20:01.683 UTC [64] LOG:  shutting down\n",
      "2025-01-27 03:20:01.695 UTC [1] LOG:  database system is shut down\n"
     ]
    }
   ],
   "source": [
    "!docker run -it \\\n",
    "  -e POSTGRES_USER=\"root\" \\\n",
    "  -e POSTGRES_PASSWORD=\"root\" \\\n",
    "  -e POSTGRES_DB=\"ny_taxi\" \\\n",
    "  -v $(pwd)/ny_taxi_postgres_data:/var/lib/postgresql/data \\\n",
    "  -p 5432:5432 \\\n",
    "  postgres:13"
   ]
  },
  {
   "cell_type": "markdown",
   "metadata": {},
   "source": [
    "Question 3. Trip Segmentation Count (1 point)\n",
    "\n",
    "\n",
    "104,802; 197,670; 110,612; 27,831; 35,281\n",
    "\n",
    "104,802; 198,924; 109,603; 27,678; 35,189\n",
    "\n",
    "104,793; 201,407; 110,612; 27,831; 35,281\n",
    "\n",
    "104,793; 202,661; 109,603; 27,678; 35,189\n",
    "\n",
    "104,838; 199,013; 109,645; 27,688; 35,202"
   ]
  },
  {
   "cell_type": "code",
   "execution_count": null,
   "metadata": {},
   "outputs": [],
   "source": []
  }
 ],
 "metadata": {
  "kernelspec": {
   "display_name": "Python 3",
   "language": "python",
   "name": "python3"
  },
  "language_info": {
   "codemirror_mode": {
    "name": "ipython",
    "version": 3
   },
   "file_extension": ".py",
   "mimetype": "text/x-python",
   "name": "python",
   "nbconvert_exporter": "python",
   "pygments_lexer": "ipython3",
   "version": "3.12.1"
  }
 },
 "nbformat": 4,
 "nbformat_minor": 2
}
